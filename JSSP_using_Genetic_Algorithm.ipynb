{
  "nbformat": 4,
  "nbformat_minor": 0,
  "metadata": {
    "colab": {
      "provenance": []
    },
    "kernelspec": {
      "name": "python3",
      "display_name": "Python 3"
    },
    "language_info": {
      "name": "python"
    }
  },
  "cells": [
    {
      "cell_type": "markdown",
      "source": [
        "#Problem Defination and Data Gathering"
      ],
      "metadata": {
        "id": "ynsVfLDGiQ99"
      }
    },
    {
      "cell_type": "markdown",
      "source": [
        "The main objective of the JSS Problem is to find an optimal schedule that minimizes the makespan, the total time required to complete all jobs across all machines."
      ],
      "metadata": {
        "id": "HycHIrSNiQdZ"
      }
    },
    {
      "cell_type": "markdown",
      "source": [
        "##Data Preparation"
      ],
      "metadata": {
        "id": "ZNWtoj-xtp4l"
      }
    },
    {
      "cell_type": "code",
      "source": [
        "# Important Libraries\n",
        "import pandas as pd\n",
        "import numpy as np\n",
        "import random\n",
        "import time\n",
        "import copy\n",
        "import matplotlib.pyplot as plt\n",
        "import seaborn as sns"
      ],
      "metadata": {
        "id": "MNhc6hWSJruj"
      },
      "execution_count": 63,
      "outputs": []
    },
    {
      "cell_type": "code",
      "execution_count": 64,
      "metadata": {
        "colab": {
          "base_uri": "https://localhost:8080/"
        },
        "id": "SiCJveBGfPrW",
        "outputId": "c2ec1409-9cde-472f-80c8-7b60b1817c03"
      },
      "outputs": [
        {
          "output_type": "stream",
          "name": "stdout",
          "text": [
            "      T1  T2   T3  T4\n",
            "Time                 \n",
            "J1    30  80   63  33\n",
            "J2    72  20   33  46\n",
            "J3     5  26   21  18\n",
            "J4    75  34  100  79\n",
            "       T1  T2  T3  T4\n",
            "Order                \n",
            "J1      1   3   2   4\n",
            "J2      2   1   3   4\n",
            "J3      1   3   4   2\n",
            "J4      1   4   3   2\n"
          ]
        }
      ],
      "source": [
        "# Data Preparation\n",
        "num_jobs = 4 #(J1 to J5)\n",
        "num_tasks = 4 #(T1 to T5)\n",
        "num_machines = 4 #(M1 to M5)\n",
        "min_time = 1  # Minimum processing time\n",
        "max_time = 100  # Maximum processing time\n",
        "\n",
        "# Generate random data for the JSS problem\n",
        "data = np.random.randint(min_time, max_time + 1, size=(num_jobs, num_tasks))\n",
        "data_order = np.array([np.random.permutation(num_tasks) + 1 for _ in range(num_jobs)])\n",
        "# Create job and operation labels\n",
        "job_labels = [f'J{i+1}' for i in range(num_jobs)]\n",
        "operation_labels = [f'T{i+1}' for i in range(num_tasks)]\n",
        "\n",
        "#Creating dataframe for Operations Time\n",
        "df = pd.DataFrame(data, columns=operation_labels, index=job_labels)\n",
        "df.index.name = 'Time'\n",
        "print(df)\n",
        "\n",
        "#Creating dataframe for Operations Order\n",
        "df_order = pd.DataFrame(data_order, columns=operation_labels, index=job_labels)\n",
        "df_order.index.name = 'Order'\n",
        "print(df_order)\n",
        "# Saving as csv file\n",
        "df.to_csv('JSP_dataset.csv')\n",
        "df_order.to_csv('JSP_dataset_order.csv')\n"
      ]
    },
    {
      "cell_type": "markdown",
      "source": [
        "##Solving The Job Shop Problem using Genetic Algorithms"
      ],
      "metadata": {
        "id": "bcgIprX0tukd"
      }
    },
    {
      "cell_type": "markdown",
      "source": [
        "###Chromosome Representation"
      ],
      "metadata": {
        "id": "5qF4TakeXzJQ"
      }
    },
    {
      "cell_type": "code",
      "source": [
        "# Flatten the operation order and add a machine assignment\n",
        "chromosome = []\n",
        "for job, tasks in df_order.iterrows():\n",
        "    for task in tasks:\n",
        "        chromosome.append(f'{job}{task}')\n",
        "print(\"Example Chromosome:\", chromosome)"
      ],
      "metadata": {
        "colab": {
          "base_uri": "https://localhost:8080/"
        },
        "id": "6sHV9d0BXwM2",
        "outputId": "d4248970-4c02-4b6d-e62f-2bc443e719ab"
      },
      "execution_count": 65,
      "outputs": [
        {
          "output_type": "stream",
          "name": "stdout",
          "text": [
            "Example Chromosome: ['J11', 'J13', 'J12', 'J14', 'J22', 'J21', 'J23', 'J24', 'J31', 'J33', 'J34', 'J32', 'J41', 'J44', 'J43', 'J42']\n"
          ]
        }
      ]
    },
    {
      "cell_type": "markdown",
      "source": [
        "###Step1: Initialize Population"
      ],
      "metadata": {
        "id": "Aq1QciHMuV3v"
      }
    },
    {
      "cell_type": "code",
      "source": [
        "def generate_initial_population(population_size, num_jobs, num_tasks):\n",
        "    population = []\n",
        "    for _ in range(population_size):\n",
        "        chromosome = []\n",
        "        for job in range(1, num_jobs + 1):\n",
        "            for task in range(1, num_tasks + 1):\n",
        "                chromosome.append(f'J{job}T{task}')\n",
        "        random.shuffle(chromosome)\n",
        "        population.append(chromosome)\n",
        "    return population\n",
        "\n",
        "# Example usage:\n",
        "population_size = 10  # Adjust based on problem complexity\n",
        "population = generate_initial_population(population_size, num_jobs, num_tasks)\n",
        "print(\"Initial Population:\")\n",
        "for i, individual in enumerate(population, 1):\n",
        "    print(f\"Chromosome {i}: {individual}\")"
      ],
      "metadata": {
        "colab": {
          "base_uri": "https://localhost:8080/"
        },
        "id": "6aaFgUyMuViq",
        "outputId": "abf3e126-62cc-4414-9aa6-3a48a2107464"
      },
      "execution_count": 66,
      "outputs": [
        {
          "output_type": "stream",
          "name": "stdout",
          "text": [
            "Initial Population:\n",
            "Chromosome 1: ['J4T3', 'J3T2', 'J1T1', 'J1T3', 'J4T4', 'J2T3', 'J2T4', 'J3T1', 'J4T2', 'J2T1', 'J3T4', 'J3T3', 'J1T2', 'J2T2', 'J1T4', 'J4T1']\n",
            "Chromosome 2: ['J1T4', 'J4T2', 'J3T4', 'J1T1', 'J3T2', 'J2T1', 'J2T3', 'J3T1', 'J2T2', 'J1T3', 'J3T3', 'J2T4', 'J4T1', 'J4T3', 'J1T2', 'J4T4']\n",
            "Chromosome 3: ['J1T3', 'J2T2', 'J4T4', 'J3T2', 'J2T4', 'J1T2', 'J1T4', 'J2T1', 'J3T1', 'J2T3', 'J3T3', 'J4T3', 'J4T2', 'J1T1', 'J3T4', 'J4T1']\n",
            "Chromosome 4: ['J2T2', 'J1T3', 'J4T2', 'J1T4', 'J3T4', 'J3T1', 'J3T2', 'J4T3', 'J1T1', 'J4T4', 'J3T3', 'J2T4', 'J2T3', 'J2T1', 'J4T1', 'J1T2']\n",
            "Chromosome 5: ['J2T4', 'J3T4', 'J3T2', 'J2T1', 'J1T4', 'J1T3', 'J4T1', 'J1T2', 'J3T1', 'J3T3', 'J4T3', 'J2T2', 'J1T1', 'J2T3', 'J4T2', 'J4T4']\n",
            "Chromosome 6: ['J3T1', 'J1T2', 'J1T1', 'J1T4', 'J4T4', 'J4T1', 'J2T3', 'J2T4', 'J1T3', 'J2T2', 'J3T3', 'J4T3', 'J4T2', 'J3T2', 'J3T4', 'J2T1']\n",
            "Chromosome 7: ['J4T3', 'J2T4', 'J1T3', 'J4T4', 'J3T2', 'J4T1', 'J3T3', 'J1T1', 'J2T2', 'J4T2', 'J1T4', 'J1T2', 'J3T1', 'J2T3', 'J2T1', 'J3T4']\n",
            "Chromosome 8: ['J3T3', 'J2T4', 'J2T2', 'J1T3', 'J1T1', 'J1T2', 'J3T1', 'J1T4', 'J4T1', 'J4T3', 'J3T4', 'J2T3', 'J4T4', 'J2T1', 'J3T2', 'J4T2']\n",
            "Chromosome 9: ['J3T2', 'J1T1', 'J2T4', 'J4T1', 'J4T4', 'J3T4', 'J2T1', 'J1T3', 'J2T2', 'J2T3', 'J3T3', 'J4T2', 'J1T4', 'J3T1', 'J4T3', 'J1T2']\n",
            "Chromosome 10: ['J1T3', 'J3T3', 'J2T4', 'J2T1', 'J3T1', 'J3T4', 'J2T2', 'J4T4', 'J4T2', 'J1T1', 'J2T3', 'J1T4', 'J4T1', 'J4T3', 'J1T2', 'J3T2']\n"
          ]
        }
      ]
    },
    {
      "cell_type": "markdown",
      "source": [
        "###Step 2: Fitness Function"
      ],
      "metadata": {
        "id": "nvBo95lQvZFK"
      }
    },
    {
      "cell_type": "code",
      "source": [
        "def calculate_makespan(chromosome, df_times):\n",
        "    num_machines = df_times.shape[1]\n",
        "    machine_end_times = [0] * num_machines\n",
        "    job_end_times = {job: 0 for job in df_times.index}\n",
        "\n",
        "    for operation in chromosome:\n",
        "        # Split job and task\n",
        "        job, task = operation.split('T')  # e.g., \"J1T6\" -> \"J1\", \"6\"\n",
        "        task = int(task) - 1  # Convert task to zero-based index\n",
        "\n",
        "        # Assign machine (simple modulo-based assignment)\n",
        "        machine = task % num_machines\n",
        "        start_time = max(machine_end_times[machine], job_end_times[job])\n",
        "        process_time = df_times.loc[job, f'T{task + 1}']\n",
        "        finish_time = start_time + process_time\n",
        "\n",
        "        # Update end times\n",
        "        machine_end_times[machine] = finish_time\n",
        "        job_end_times[job] = finish_time\n",
        "\n",
        "    return max(machine_end_times)  # Return the makespan\n"
      ],
      "metadata": {
        "id": "gIen88fWuTzn"
      },
      "execution_count": 67,
      "outputs": []
    },
    {
      "cell_type": "markdown",
      "source": [
        "###Step 3: Roulette Wheel Selection"
      ],
      "metadata": {
        "id": "7c7OF5k1BX3I"
      }
    },
    {
      "cell_type": "code",
      "source": [
        "def roulette_wheel_selection(population, fitness_values):\n",
        "    total_fitness = sum(fitness_values)\n",
        "    probabilities = [f / total_fitness for f in fitness_values]\n",
        "    cumulative_prob = np.cumsum(probabilities)\n",
        "\n",
        "    rand = random.random()\n",
        "    for i, prob in enumerate(cumulative_prob):\n",
        "        if rand <= prob:\n",
        "            return population[i]\n"
      ],
      "metadata": {
        "id": "1W9LcNfbBYJ9"
      },
      "execution_count": 68,
      "outputs": []
    },
    {
      "cell_type": "markdown",
      "source": [
        "###Step 4: Crossover:\n",
        "\n",
        "\n"
      ],
      "metadata": {
        "id": "lB31oza4BoE0"
      }
    },
    {
      "cell_type": "code",
      "source": [
        "def one_point_crossover(parent1, parent2, crossover_rate):\n",
        "  if random.random() < crossover_rate:\n",
        "    point = random.randint(1, len(parent1) - 2)\n",
        "    child1 = parent1[:point] + [gene for gene in parent2 if gene not in parent1[:point]]\n",
        "    child2 = parent2[:point] + [gene for gene in parent1 if gene not in parent2[:point]]\n",
        "  return child1, child2"
      ],
      "metadata": {
        "id": "5pA-idORBn3m"
      },
      "execution_count": 69,
      "outputs": []
    },
    {
      "cell_type": "markdown",
      "source": [
        "###Step 5: Mutation"
      ],
      "metadata": {
        "id": "VPAjax3jCEqb"
      }
    },
    {
      "cell_type": "code",
      "source": [
        "def mutation(chromosome, mutation_rate):\n",
        "    if random.random() < mutation_rate:\n",
        "        idx1, idx2 = random.sample(range(len(chromosome)), 2)\n",
        "        chromosome[idx1], chromosome[idx2] = chromosome[idx2], chromosome[idx1]\n",
        "    return chromosome"
      ],
      "metadata": {
        "id": "DJuf9R-0CEfw"
      },
      "execution_count": 70,
      "outputs": []
    },
    {
      "cell_type": "markdown",
      "source": [
        "###Gantt Chart"
      ],
      "metadata": {
        "id": "RY9GQaXeYmUY"
      }
    },
    {
      "cell_type": "code",
      "source": [
        "def plot_gantt_chart(chromosome, df_times):\n",
        "    num_machines = df_times.shape[1]\n",
        "    machine_end_times = [0] * num_machines\n",
        "    job_end_times = {job: 0 for job in df_times.index}\n",
        "    gantt_data = []\n",
        "\n",
        "    for operation in chromosome:\n",
        "        # Extract job and task\n",
        "        job = operation[:2]  # \"J1\" for example\n",
        "        task = int(operation[3:]) - 1  # Extract task number (1-based indexing)\n",
        "\n",
        "        # Assign machine (simple modulo-based assignment)\n",
        "        machine = task % num_machines\n",
        "        start_time = max(machine_end_times[machine], job_end_times[job])\n",
        "        process_time = df_times.loc[job, f'T{task + 1}']\n",
        "        finish_time = start_time + process_time\n",
        "\n",
        "        gantt_data.append((machine, start_time, finish_time, job, f'T{task + 1}'))\n",
        "\n",
        "        # Update end times\n",
        "        machine_end_times[machine] = finish_time\n",
        "        job_end_times[job] = finish_time\n",
        "\n",
        "    # Plot Gantt Chart\n",
        "    colors = sns.color_palette(\"hsv\", len(gantt_data))\n",
        "    plt.figure(figsize=(12, 6))\n",
        "    for idx, (machine, start, finish, job, task) in enumerate(gantt_data):\n",
        "        plt.barh(machine, finish - start, left=start, color=colors[idx], edgecolor='black', label=f'{job}-{task}')\n",
        "\n",
        "    # Set y-axis labels to machine names\n",
        "    machine_labels = [f\"Machine {i+1}\" for i in range(num_machines)]\n",
        "    plt.yticks(range(num_machines), machine_labels)\n",
        "\n",
        "    plt.xlabel(\"Time\")\n",
        "    plt.title(\"Gantt Chart\")\n",
        "    plt.legend(loc='upper right')\n",
        "    plt.savefig('GanttChart.png')\n",
        "    plt.show()\n"
      ],
      "metadata": {
        "id": "1XBl1LFXYmGl"
      },
      "execution_count": 77,
      "outputs": []
    },
    {
      "cell_type": "markdown",
      "source": [
        "###Main Genetic Algorithm"
      ],
      "metadata": {
        "id": "UpYgWVyvCPy2"
      }
    },
    {
      "cell_type": "code",
      "source": [
        "# Parameters\n",
        "population_size = 10\n",
        "num_generations = 500\n",
        "mutation_rate = 0.6\n",
        "crossover_rate = 0.6\n",
        "\n",
        "# Generate Initial Population\n",
        "population = generate_initial_population(population_size, num_jobs, num_tasks)\n",
        "\n",
        "# Evaluate Fitness of Initial Population\n",
        "def evaluate_population(population, df_times):\n",
        "    fitness_values = [calculate_makespan(chromosome, df_times) for chromosome in population]\n",
        "    return fitness_values\n",
        "\n",
        "fitness_values = evaluate_population(population, df)\n",
        "\n",
        "best_chromosome = None\n",
        "best_fitness = float('inf')\n",
        "\n",
        "for generation in range(num_generations):\n",
        "    new_population = []\n",
        "    fitness_values = evaluate_population(population, df)\n",
        "\n",
        "    for _ in range(population_size // 2):  # Generate pairs\n",
        "        # Selection\n",
        "        parent1 = roulette_wheel_selection(population, fitness_values)\n",
        "        parent2 = roulette_wheel_selection(population, fitness_values)\n",
        "\n",
        "        # Crossover\n",
        "        child1, child2 = one_point_crossover(parent1, parent2, crossover_rate)\n",
        "\n",
        "        # Mutation\n",
        "        child1 = mutation(child1, mutation_rate)\n",
        "        child2 = mutation(child2, mutation_rate)\n",
        "\n",
        "        new_population.extend([child1, child2])\n",
        "\n",
        "    # Replace the old population\n",
        "    population = new_population\n",
        "\n",
        "    # Track the best solution\n",
        "    fitness_values = evaluate_population(population, df)\n",
        "    min_fitness = min(fitness_values)\n",
        "    if min_fitness < best_fitness:\n",
        "        best_fitness = min_fitness\n",
        "        best_chromosome = population[fitness_values.index(min_fitness)]\n",
        "\n",
        "    #print(f\"Generation {generation + 1}: Best Fitness = {best_fitness}\")\n",
        "\n",
        "print(\"Best Solution:\", best_chromosome)\n",
        "print(\"Best Makespan:\", best_fitness)\n",
        "\n",
        "plot_gantt_chart(best_chromosome, df)\n"
      ],
      "metadata": {
        "colab": {
          "base_uri": "https://localhost:8080/",
          "height": 524
        },
        "id": "BU-7sbuZCPoq",
        "outputId": "b27844a8-9195-4dcc-d104-538742c4eba6"
      },
      "execution_count": 78,
      "outputs": [
        {
          "output_type": "stream",
          "name": "stdout",
          "text": [
            "Best Solution: ['J2T3', 'J1T3', 'J2T1', 'J3T3', 'J4T2', 'J4T4', 'J2T2', 'J1T2', 'J3T4', 'J3T2', 'J4T1', 'J1T1', 'J4T3', 'J2T4', 'J1T4', 'J3T1']\n",
            "Best Makespan: 288\n"
          ]
        },
        {
          "output_type": "display_data",
          "data": {
            "text/plain": [
              "<Figure size 1200x600 with 1 Axes>"
            ],
            "image/png": "[encoded data removed]"
          },
          "metadata": {}
        }
      ]
    },
    {
      "cell_type": "markdown",
      "source": [
        "#Comparison with Baselines"
      ],
      "metadata": {
        "id": "53ip1ywEbFx5"
      }
    },
    {
      "cell_type": "markdown",
      "source": [
        "##Heuristic - Shortest Processing Time"
      ],
      "metadata": {
        "id": "K6z1Bxh-bJJB"
      }
    },
    {
      "cell_type": "code",
      "source": [
        "def shortest_processing_time(df_times):\n",
        "    schedule = []\n",
        "    machine_end_times = [0] * df_times.shape[1]\n",
        "    job_end_times = {job: 0 for job in df_times.index}\n",
        "\n",
        "    # Flatten job-task pairs and sort by processing time\n",
        "    tasks = []\n",
        "    for job in df_times.index:\n",
        "        for task in df_times.columns:\n",
        "            tasks.append((job, task, df_times.loc[job, task]))\n",
        "    tasks.sort(key=lambda x: x[2])  # Sort by processing time\n",
        "\n",
        "    for job, task, process_time in tasks:\n",
        "        # Assign task to the first available machine\n",
        "        machine = machine_end_times.index(min(machine_end_times))\n",
        "        start_time = max(machine_end_times[machine], job_end_times[job])\n",
        "        finish_time = start_time + process_time\n",
        "        schedule.append((machine, start_time, finish_time, job, task))\n",
        "        machine_end_times[machine] = finish_time\n",
        "        job_end_times[job] = finish_time\n",
        "\n",
        "    makespan = max(machine_end_times)\n",
        "    return schedule, makespan"
      ],
      "metadata": {
        "id": "5_qJsifAbFLF"
      },
      "execution_count": 73,
      "outputs": []
    },
    {
      "cell_type": "markdown",
      "source": [
        "##Simulated Annealing\n",
        "\n",
        "\n"
      ],
      "metadata": {
        "id": "HkFsXinMbR0X"
      }
    },
    {
      "cell_type": "code",
      "source": [
        "import math\n",
        "\n",
        "def simulated_annealing(df_times, initial_solution, initial_temp=1000, cooling_rate=0.95, max_iterations=100):\n",
        "    current_solution = initial_solution.copy()\n",
        "    current_makespan = calculate_makespan(current_solution, df_times)\n",
        "    best_solution = current_solution\n",
        "    best_makespan = current_makespan\n",
        "    temp = initial_temp\n",
        "\n",
        "    for _ in range(max_iterations):\n",
        "        # Generate a neighbor (swap two random tasks)\n",
        "        neighbor = current_solution.copy()\n",
        "        idx1, idx2 = random.sample(range(len(neighbor)), 2)\n",
        "        neighbor[idx1], neighbor[idx2] = neighbor[idx2], neighbor[idx1]\n",
        "\n",
        "        # Calculate neighbor's makespan\n",
        "        neighbor_makespan = calculate_makespan(neighbor, df_times)\n",
        "\n",
        "        # Accept neighbor with probability based on temperature\n",
        "        if neighbor_makespan < current_makespan or math.exp((current_makespan - neighbor_makespan) / temp) > random.random():\n",
        "            current_solution = neighbor\n",
        "            current_makespan = neighbor_makespan\n",
        "\n",
        "        # Update best solution\n",
        "        if current_makespan < best_makespan:\n",
        "            best_solution = current_solution\n",
        "            best_makespan = current_makespan\n",
        "\n",
        "        # Cool down\n",
        "        temp *= cooling_rate\n",
        "\n",
        "    return best_solution, best_makespan\n"
      ],
      "metadata": {
        "id": "8gRHsjtXbRjg"
      },
      "execution_count": 74,
      "outputs": []
    },
    {
      "cell_type": "markdown",
      "source": [
        "##Visualization"
      ],
      "metadata": {
        "id": "2--U9L-YbaHV"
      }
    },
    {
      "cell_type": "code",
      "source": [
        "import time\n",
        "\n",
        "# Run GA\n",
        "start_time = time.time()\n",
        "ga_solution, ga_makespan = best_chromosome, best_fitness\n",
        "ga_time = time.time() - start_time\n",
        "\n",
        "# Run Heuristic\n",
        "start_time = time.time()\n",
        "heuristic_schedule, heuristic_makespan = shortest_processing_time(df)\n",
        "heuristic_time = time.time() - start_time\n",
        "\n",
        "# Run Simulated Annealing\n",
        "start_time = time.time()\n",
        "sa_solution, sa_makespan = simulated_annealing(df, best_chromosome)\n",
        "sa_time = time.time() - start_time\n",
        "\n",
        "# Print Comparison Results\n",
        "print(f\"Genetic Algorithm: Makespan = {ga_makespan}, Time = {ga_time:.2f}s\")\n",
        "print(f\"Heuristic (SPT): Makespan = {heuristic_makespan}, Time = {heuristic_time:.2f}s\")\n",
        "print(f\"Simulated Annealing: Makespan = {sa_makespan}, Time = {sa_time:.2f}s\")\n"
      ],
      "metadata": {
        "colab": {
          "base_uri": "https://localhost:8080/"
        },
        "id": "--8QYIdNbWrj",
        "outputId": "d8c83ecc-420a-4c9e-84eb-5a3cfa146e3b"
      },
      "execution_count": 79,
      "outputs": [
        {
          "output_type": "stream",
          "name": "stdout",
          "text": [
            "Genetic Algorithm: Makespan = 288, Time = 0.00s\n",
            "Heuristic (SPT): Makespan = 338, Time = 0.00s\n",
            "Simulated Annealing: Makespan = 288, Time = 0.02s\n"
          ]
        }
      ]
    },
    {
      "cell_type": "code",
      "source": [
        "# Bar Chart Comparison\n",
        "algorithms = ['Genetic Algorithm', 'Heuristic (SPT)', 'Simulated Annealing']\n",
        "makespans = [ga_makespan, heuristic_makespan, sa_makespan]\n",
        "times = [ga_time, heuristic_time, sa_time]\n",
        "\n",
        "plt.figure(figsize=(10, 5))\n",
        "plt.bar(algorithms, makespans, color=['blue', 'green', 'red'])\n",
        "plt.ylabel('Makespan')\n",
        "plt.title('Comparison of Makespan Across Algorithms')\n",
        "plt.show()\n",
        "\n",
        "plt.figure(figsize=(10, 5))\n",
        "plt.bar(algorithms, times, color=['blue', 'green', 'gray'])\n",
        "plt.ylabel('Execution Time (s)')\n",
        "plt.title('Comparison of Execution Time Across Algorithms')\n",
        "plt.savefig('TimeComparison.png')\n",
        "plt.show()\n"
      ],
      "metadata": {
        "colab": {
          "base_uri": "https://localhost:8080/",
          "height": 916
        },
        "id": "wtihCK40bf7t",
        "outputId": "f4170f1a-36a7-4764-e472-1be521c3cf17"
      },
      "execution_count": 82,
      "outputs": [
        {
          "output_type": "display_data",
          "data": {
            "text/plain": [
              "<Figure size 1000x500 with 1 Axes>"
            ],
            "image/png": "[encoded data removed]"
          },
          "metadata": {}
        },
        {
          "output_type": "display_data",
          "data": {
            "text/plain": [
              "<Figure size 1000x500 with 1 Axes>"
            ],
            "image/png": "[encoded data removed]"
          },
          "metadata": {}
        }
      ]
    }
  ]
}